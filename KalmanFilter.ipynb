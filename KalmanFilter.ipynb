{
 "cells": [
  {
   "cell_type": "markdown",
   "metadata": {
    "code_folding": []
   },
   "source": [
    "# Univariate Kalman Filter\n",
    "$x$: state of the system <br>\n",
    "$P$: uncertainty in the system (Initialized at the start and updated in the process) <br>\n",
    "$u$: movement <br>\n",
    "$Q$: uncertainty in the movement <br>\n",
    "$z$: measurements <br> \n",
    "$R$: uncertainty in the measurements <br>\n"
   ]
  },
  {
   "cell_type": "markdown",
   "metadata": {},
   "source": [
    "<u>Predict</u>\n",
    "\n",
    "$\\begin{array}{|l|l|l|}\n",
    "\\hline\n",
    "\\text{Equation} & \\text{Implementation} & \\text{Kalman Form}\\\\\n",
    "\\hline\n",
    " \\bar x = x + f_x & \\bar\\mu = \\mu + \\mu_{f_x} & \\bar x = x + dx\\\\\n",
    "& \\bar\\sigma^2 = \\sigma^2 + \\sigma_{f_x}^2 & \\bar P = P + Q\\\\\n",
    "\\hline\n",
    "\\end{array}$\n",
    "\n",
    "<u>Update</u>\n",
    "\n",
    "$\\begin{array}{|l|l|l|}\n",
    "\\hline\n",
    "\\text{Equation} & \\text{Implementation}& \\text{Kalman Form}\\\\\n",
    "\\hline\n",
    " x = \\| \\mathcal L\\bar x\\| & y = z - \\bar\\mu & y = z - \\bar x\\\\\n",
    " & K = \\frac {\\bar\\sigma^2} {\\bar\\sigma^2 + \\sigma_z^2} & K = \\frac {\\bar P}{\\bar P+R}\\\\\n",
    " & \\mu = \\bar \\mu + Ky & x = \\bar x + Ky\\\\\n",
    " & \\sigma^2 = \\frac {\\bar\\sigma^2 \\sigma_z^2} {\\bar\\sigma^2 + \\sigma_z^2} & P = (1-K)\\bar P\\\\\n",
    "\\hline\n",
    "\\end{array}$"
   ]
  },
  {
   "cell_type": "code",
   "execution_count": 126,
   "metadata": {
    "code_folding": [
     0
    ]
   },
   "outputs": [],
   "source": [
    "# Imports\n",
    "from ipywidgets import interact\n",
    "import numpy as np\n",
    "import matplotlib.pyplot as plt\n",
    "from scipy.stats import norm\n",
    "plt.style.use('seaborn')"
   ]
  },
  {
   "cell_type": "code",
   "execution_count": 161,
   "metadata": {
    "code_folding": [
     0
    ]
   },
   "outputs": [],
   "source": [
    "# Multiplication and convolution of two gaussians\n",
    "def add_gaussians(x, P, u, Q):\n",
    "    return (x+u, P+Q)\n",
    "def multiply_gaussians(z, R, x, P):\n",
    "    kalman_gain = P/(P+R)\n",
    "    residual = z - x\n",
    "    return (x + kalman_gain*residual, (P*R)/(P+R))   "
   ]
  },
  {
   "cell_type": "code",
   "execution_count": 165,
   "metadata": {
    "code_folding": [
     0
    ]
   },
   "outputs": [
    {
     "data": {
      "application/vnd.jupyter.widget-view+json": {
       "model_id": "03e9ad1da8f148c592c822db8106f55d",
       "version_major": 2,
       "version_minor": 0
      },
      "text/plain": [
       "interactive(children=(IntSlider(value=10, description='N', max=20, min=1), FloatSlider(value=1.0, description=…"
      ]
     },
     "metadata": {},
     "output_type": "display_data"
    }
   ],
   "source": [
    "# Interactive kalman filtering\n",
    "@interact(N = (1,20,1), R = (0,3,0.5), u=(-2,2,1), Q=(1,10,1))\n",
    "def kalman_filtering(N,R,u,Q):\n",
    "    x0 = 0 \n",
    "    P = 100\n",
    "    np.random.seed(123)\n",
    "    z_all = np.arange(N) + R* np.random.randn(N)\n",
    "    x_pred = []\n",
    "    x_est = []\n",
    "    \n",
    "    for i, z in enumerate(z_all):\n",
    "        if i == 0:\n",
    "            x_pred.append(add_gaussians(x0,P,u,Q))\n",
    "            x_est.append(multiply_gaussians(z, R, x_pred[i][0], P))\n",
    "            \n",
    "        else:\n",
    "            x_pred.append(add_gaussians(x_est[i-1][0], #  Estimated mean\n",
    "                                        x_est[i-1][1], #  Estimated variance\n",
    "                                        u,Q))\n",
    "            x_est.append(multiply_gaussians(z,R,\n",
    "                                            x_pred[i][0], \n",
    "                                            x_pred[i][1]))\n",
    "                                        \n",
    "    t = range(N)\n",
    "    x_pred_mean = [pred[0] for pred in x_pred]\n",
    "    x_pred_var = [pred[1] for pred in x_pred]\n",
    "    x_est_mean = [est[0] for est in x_est]\n",
    "    x_est_var = [est[1] for est in x_est]\n",
    "    \n",
    "    plt.scatter(t, z_all, c='r', label = '$z$')\n",
    "    plt.plot(t, x_pred_mean, c='b', label = '$x (pred)$')\n",
    "    plt.plot(t, x_est_mean, c='k', label='$x$')\n",
    "    plt.errorbar(t, x_est_mean, yerr = x_est_var, \n",
    "                 c='k', fmt='o', capthick=2, capsize=10, \n",
    "                 alpha=0.5)\n",
    "    plt.xlabel('t')\n",
    "    plt.legend()\n",
    "        "
   ]
  },
  {
   "cell_type": "markdown",
   "metadata": {},
   "source": [
    "# Multivariate Kalman Filter\n",
    "$\\mathbf{x}$: State. Contains quantities such as position, velocity etc. <br>\n",
    "$\\mathbf{P}$: Initial covariace. gets updated in the process <br>\n",
    "$\\mathbf{F}$: State transision function/matrix. <br>\n",
    "$\\mathbf{Q}$: Noise in the process <br>\n",
    "$\\mathbf{u}$: Control Input (optional)<br>\n",
    "$\\mathbf{B}$: Control function/matrix (optional)<br>\n",
    "$\\mathbf{H}$: Measurement function/matrix - Converts a state into a measurement to calculate the residual. <br>\n",
    "$\\mathbf{z}$: Measurement vector <br>\n",
    "$\\mathbf{R}$: Measurement Noise matrix <br>"
   ]
  },
  {
   "cell_type": "markdown",
   "metadata": {},
   "source": [
    "<u>**Predict**</u>\n",
    "\n",
    "$\\begin{array}{|l|l|l|}\n",
    "\\hline\n",
    "\\text{Univariate} & \\text{Univariate} & \\text{Multivariate}\\\\\n",
    "& \\text{(Kalman form)} & \\\\\n",
    "\\hline\n",
    "\\bar \\mu = \\mu + \\mu_{f_x} & \\bar x = x + dx & \\bar{\\mathbf x} = \\mathbf{Fx} + \\mathbf{Bu}\\\\\n",
    "\\bar\\sigma^2 = \\sigma_x^2 + \\sigma_{f_x}^2 & \\bar P = P + Q & \\bar{\\mathbf P} = \\mathbf{FPF}^\\mathsf T + \\mathbf Q \\\\\n",
    "\\hline\n",
    "\\end{array}$\n",
    "\n",
    "#### Prediction: Summary\n",
    "\n",
    "Your job as a designer is to specify the matrices for\n",
    "\n",
    "* $\\mathbf x$, $\\mathbf P$: the state and covariance\n",
    "* $\\mathbf F$,  $\\mathbf Q$: the process model and noise covariance\n",
    "* $\\mathbf{B,u}$: Optionally, the control input and function\n",
    "\n",
    "\n",
    "\n",
    "\n",
    "\n",
    "<u>**Update**</u>\n",
    "\n",
    "$\\begin{array}{|l|l|l|}\n",
    "\\hline\n",
    "\\text{Univariate} & \\text{Univariate} & \\text{Multivariate}\\\\\n",
    "& \\text{(Kalman form)} & \\\\\n",
    "\\hline\n",
    "& y = z - \\bar x & \\mathbf y = \\mathbf z - \\mathbf{H\\bar x} \\\\\n",
    "& K = \\frac{\\bar P}{\\bar P+R}&\n",
    "\\mathbf K = \\mathbf{\\bar{P}H}^\\mathsf T (\\mathbf{H\\bar{P}H}^\\mathsf T + \\mathbf R)^{-1} \\\\\n",
    "\\mu=\\frac{\\bar\\sigma^2\\, \\mu_z + \\sigma_z^2 \\, \\bar\\mu} {\\bar\\sigma^2 + \\sigma_z^2} & x = \\bar x + Ky & \\mathbf x = \\bar{\\mathbf x} + \\mathbf{Ky} \\\\\n",
    "\\sigma^2 = \\frac{\\sigma_1^2\\sigma_2^2}{\\sigma_1^2+\\sigma_2^2} & P = (1-K)\\bar P &\n",
    "\\mathbf P = (\\mathbf I - \\mathbf{KH})\\mathbf{\\bar{P}} \\\\\n",
    "\\hline\n",
    "\\end{array}$"
   ]
  },
  {
   "cell_type": "code",
   "execution_count": null,
   "metadata": {},
   "outputs": [],
   "source": []
  }
 ],
 "metadata": {
  "kernelspec": {
   "display_name": "Python 3",
   "language": "python",
   "name": "python3"
  },
  "language_info": {
   "codemirror_mode": {
    "name": "ipython",
    "version": 3
   },
   "file_extension": ".py",
   "mimetype": "text/x-python",
   "name": "python",
   "nbconvert_exporter": "python",
   "pygments_lexer": "ipython3",
   "version": "3.6.6"
  }
 },
 "nbformat": 4,
 "nbformat_minor": 2
}
